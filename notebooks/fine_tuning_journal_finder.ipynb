{
 "cells": [
  {
   "cell_type": "code",
   "execution_count": 1,
   "metadata": {},
   "outputs": [],
   "source": [
    "import pandas as pd\n",
    "import datasets\n",
    "from datasets import Dataset, load_dataset\n",
    "from transformers import RobertaForSequenceClassification, RobertaTokenizerFast,TrainingArguments, Trainer\n",
    "import torch\n",
    "from tqdm import tqdm\n",
    "import pickle\n",
    "import numpy as np\n",
    "import utils\n",
    "%load_ext autoreload\n",
    "%autoreload 2\n",
    "\n",
    "utils.seed_everything()"
   ]
  },
  {
   "cell_type": "code",
   "execution_count": 2,
   "metadata": {},
   "outputs": [
    {
     "name": "stderr",
     "output_type": "stream",
     "text": [
      "[nltk_data] Error loading punkt: <urlopen error [Errno -2] Name or\n",
      "[nltk_data]     service not known>\n"
     ]
    }
   ],
   "source": [
    "%load_ext tensorboard"
   ]
  },
  {
   "cell_type": "code",
   "execution_count": 3,
   "metadata": {},
   "outputs": [
    {
     "name": "stderr",
     "output_type": "stream",
     "text": [
      "Using custom data configuration default-5b03ef3722775437\n",
      "Reusing dataset csv (/home/jbdlb/.cache/huggingface/datasets/csv/default-5b03ef3722775437/0.0.0/2dc6629a9ff6b5697d82c25b73731dd440507a69cbce8b425db50b751e8fcfd0)\n"
     ]
    }
   ],
   "source": [
    "dataset=load_dataset(\"csv\", data_files={\"train\":\"../Journal-Finder/train.csv\",\n",
    "                                        \"valid\":\"../Journal-Finder/validation.csv\",\n",
    "                                        \"test\":\"../Journal-Finder/test.csv\"})\n",
    "\n",
    "# The validation set is not given"
   ]
  },
  {
   "cell_type": "code",
   "execution_count": 4,
   "metadata": {},
   "outputs": [],
   "source": [
    "if torch.cuda.is_available():        # use the GPU.    \n",
    "    device = torch.device(\"cuda\")    \n",
    "else:\n",
    "    print('No GPU available, using the CPU instead.')\n",
    "    device = torch.device(\"cpu\")"
   ]
  },
  {
   "cell_type": "code",
   "execution_count": 5,
   "metadata": {},
   "outputs": [
    {
     "name": "stderr",
     "output_type": "stream",
     "text": [
      "Loading cached processed dataset at /home/jbdlb/.cache/huggingface/datasets/csv/default-5b03ef3722775437/0.0.0/2dc6629a9ff6b5697d82c25b73731dd440507a69cbce8b425db50b751e8fcfd0/cache-7c0ae1447394e741.arrow\n",
      "Loading cached processed dataset at /home/jbdlb/.cache/huggingface/datasets/csv/default-5b03ef3722775437/0.0.0/2dc6629a9ff6b5697d82c25b73731dd440507a69cbce8b425db50b751e8fcfd0/cache-704263e8686b6139.arrow\n",
      "Loading cached processed dataset at /home/jbdlb/.cache/huggingface/datasets/csv/default-5b03ef3722775437/0.0.0/2dc6629a9ff6b5697d82c25b73731dd440507a69cbce8b425db50b751e8fcfd0/cache-6d5c6f797e87293d.arrow\n"
     ]
    }
   ],
   "source": [
    "# define an input as <article_title> : <article_abstract>\n",
    "dataset=dataset.map(lambda x: {\"input\":x[\"title\"]+\" : \"+x[\"abstract\"]},remove_columns=[\"abstract\",\"title\"])"
   ]
  },
  {
   "cell_type": "code",
   "execution_count": 6,
   "metadata": {},
   "outputs": [],
   "source": [
    "#mapping labels to journal_id\n",
    "labels_jid_map = pd.DataFrame(dataset[\"train\"][\"journal_id\"],dataset[\"train\"][\"labels\"])\n",
    "labels_jid_map=labels_jid_map.groupby(0, group_keys=False).apply(lambda df: df.sample(1))\n",
    "labels_jid_map=labels_jid_map.to_dict()[0]\n",
    "num_labels=len(labels_jid_map)\n"
   ]
  },
  {
   "cell_type": "code",
   "execution_count": 7,
   "metadata": {},
   "outputs": [],
   "source": [
    "#mapping journal_id to journal_name\n",
    "with open('mapping_id_journal_name.pickle', 'rb') as handle:\n",
    "    jid_jname_map = pickle.load(handle)"
   ]
  },
  {
   "cell_type": "code",
   "execution_count": 8,
   "metadata": {},
   "outputs": [],
   "source": [
    "scilitbert_tokenizer = RobertaTokenizerFast(\n",
    "    \"../ScilitBERT/ScilitBERT_tokenizer/scilitBERT_tok-vocab.json\",\n",
    "    \"../ScilitBERT/ScilitBERT_tokenizer/scilitBERT_tok-merges.txt\",\n",
    "    max_len=512\n",
    ")\n"
   ]
  },
  {
   "cell_type": "code",
   "execution_count": 9,
   "metadata": {},
   "outputs": [
    {
     "name": "stderr",
     "output_type": "stream",
     "text": [
      "Some weights of the model checkpoint at ../ScilitBERT/ScilitBERT_cased were not used when initializing RobertaForSequenceClassification: ['lm_head.bias', 'lm_head.dense.weight', 'lm_head.dense.bias', 'lm_head.layer_norm.weight', 'lm_head.layer_norm.bias', 'lm_head.decoder.weight', 'lm_head.decoder.bias']\n",
      "- This IS expected if you are initializing RobertaForSequenceClassification from the checkpoint of a model trained on another task or with another architecture (e.g. initializing a BertForSequenceClassification model from a BertForPreTraining model).\n",
      "- This IS NOT expected if you are initializing RobertaForSequenceClassification from the checkpoint of a model that you expect to be exactly identical (initializing a BertForSequenceClassification model from a BertForSequenceClassification model).\n",
      "Some weights of RobertaForSequenceClassification were not initialized from the model checkpoint at ../ScilitBERT/ScilitBERT_cased and are newly initialized: ['classifier.dense.weight', 'classifier.dense.bias', 'classifier.out_proj.weight', 'classifier.out_proj.bias']\n",
      "You should probably TRAIN this model on a down-stream task to be able to use it for predictions and inference.\n"
     ]
    }
   ],
   "source": [
    "# load the model\n",
    "ScilitBERT = RobertaForSequenceClassification.from_pretrained(\"../ScilitBERT/ScilitBERT_cased\",num_labels=num_labels)"
   ]
  },
  {
   "cell_type": "code",
   "execution_count": 10,
   "metadata": {
    "tags": [
     "outputPrepend"
    ]
   },
   "outputs": [
    {
     "name": "stderr",
     "output_type": "stream",
     "text": [
      "Loading cached processed dataset at /home/jbdlb/.cache/huggingface/datasets/csv/default-5b03ef3722775437/0.0.0/2dc6629a9ff6b5697d82c25b73731dd440507a69cbce8b425db50b751e8fcfd0/cache-d00f590d94f54987.arrow\n",
      "Loading cached processed dataset at /home/jbdlb/.cache/huggingface/datasets/csv/default-5b03ef3722775437/0.0.0/2dc6629a9ff6b5697d82c25b73731dd440507a69cbce8b425db50b751e8fcfd0/cache-af1c3e7aa2c9da9a.arrow\n",
      "Loading cached processed dataset at /home/jbdlb/.cache/huggingface/datasets/csv/default-5b03ef3722775437/0.0.0/2dc6629a9ff6b5697d82c25b73731dd440507a69cbce8b425db50b751e8fcfd0/cache-194cbcf3655cfbca.arrow\n",
      "  0%|          | 101/73340 [00:15<3:09:47,  6.43it/s]"
     ]
    },
    {
     "name": "stdout",
     "output_type": "stream",
     "text": [
      "{'loss': 4.5619, 'learning_rate': 2.9979533360622187e-05, 'epoch': 0.0}\n"
     ]
    },
    {
     "name": "stderr",
     "output_type": "stream",
     "text": [
      "  0%|          | 201/73340 [00:31<3:23:13,  6.00it/s]"
     ]
    },
    {
     "name": "stdout",
     "output_type": "stream",
     "text": [
      "{'loss': 3.6587, 'learning_rate': 2.993860008186656e-05, 'epoch': 0.0}\n"
     ]
    },
    {
     "name": "stderr",
     "output_type": "stream",
     "text": [
      "  0%|          | 301/73340 [00:49<3:46:50,  5.37it/s]"
     ]
    },
    {
     "name": "stdout",
     "output_type": "stream",
     "text": [
      "{'loss': 3.384, 'learning_rate': 2.989766680311093e-05, 'epoch': 0.0}\n"
     ]
    },
    {
     "name": "stderr",
     "output_type": "stream",
     "text": [
      "  1%|          | 401/73340 [01:07<3:47:06,  5.35it/s]"
     ]
    },
    {
     "name": "stdout",
     "output_type": "stream",
     "text": [
      "{'loss': 3.2515, 'learning_rate': 2.9856733524355304e-05, 'epoch': 0.01}\n"
     ]
    },
    {
     "name": "stderr",
     "output_type": "stream",
     "text": [
      "  1%|          | 501/73340 [01:25<3:47:11,  5.34it/s]"
     ]
    },
    {
     "name": "stdout",
     "output_type": "stream",
     "text": [
      "{'loss': 3.0769, 'learning_rate': 2.9815800245599673e-05, 'epoch': 0.01}\n"
     ]
    },
    {
     "name": "stderr",
     "output_type": "stream",
     "text": [
      "  1%|          | 601/73340 [01:44<3:46:51,  5.34it/s]"
     ]
    },
    {
     "name": "stdout",
     "output_type": "stream",
     "text": [
      "{'loss': 3.0276, 'learning_rate': 2.9774866966844045e-05, 'epoch': 0.01}\n"
     ]
    },
    {
     "name": "stderr",
     "output_type": "stream",
     "text": [
      "  1%|          | 701/73340 [02:02<3:46:18,  5.35it/s]"
     ]
    },
    {
     "name": "stdout",
     "output_type": "stream",
     "text": [
      "{'loss': 2.9505, 'learning_rate': 2.9733933688088418e-05, 'epoch': 0.01}\n"
     ]
    },
    {
     "name": "stderr",
     "output_type": "stream",
     "text": [
      "  1%|          | 801/73340 [02:21<3:45:47,  5.35it/s]"
     ]
    },
    {
     "name": "stdout",
     "output_type": "stream",
     "text": [
      "{'loss': 2.7945, 'learning_rate': 2.969300040933279e-05, 'epoch': 0.01}\n"
     ]
    },
    {
     "name": "stderr",
     "output_type": "stream",
     "text": [
      "  1%|          | 901/73340 [02:43<3:46:07,  5.34it/s]"
     ]
    },
    {
     "name": "stdout",
     "output_type": "stream",
     "text": [
      "{'loss': 2.6154, 'learning_rate': 2.965206713057716e-05, 'epoch': 0.01}\n"
     ]
    },
    {
     "name": "stderr",
     "output_type": "stream",
     "text": [
      "  1%|▏         | 1001/73340 [03:07<3:36:35,  5.57it/s]"
     ]
    },
    {
     "name": "stdout",
     "output_type": "stream",
     "text": [
      "{'loss': 2.6227, 'learning_rate': 2.961113385182153e-05, 'epoch': 0.01}\n"
     ]
    },
    {
     "name": "stderr",
     "output_type": "stream",
     "text": [
      "  2%|▏         | 1101/73340 [03:33<3:48:52,  5.26it/s]"
     ]
    },
    {
     "name": "stdout",
     "output_type": "stream",
     "text": [
      "{'loss': 2.5959, 'learning_rate': 2.9570200573065904e-05, 'epoch': 0.01}\n"
     ]
    },
    {
     "name": "stderr",
     "output_type": "stream",
     "text": [
      "  2%|▏         | 1200/73340 [04:01<5:15:07,  3.82it/s]"
     ]
    },
    {
     "name": "stdout",
     "output_type": "stream",
     "text": [
      "{'loss': 2.7151, 'learning_rate': 2.9529267294310276e-05, 'epoch': 0.02}\n"
     ]
    },
    {
     "name": "stderr",
     "output_type": "stream",
     "text": [
      "  2%|▏         | 1301/73340 [04:24<3:45:27,  5.33it/s]"
     ]
    },
    {
     "name": "stdout",
     "output_type": "stream",
     "text": [
      "{'loss': 2.4608, 'learning_rate': 2.9488334015554645e-05, 'epoch': 0.02}\n"
     ]
    },
    {
     "name": "stderr",
     "output_type": "stream",
     "text": [
      "  2%|▏         | 1401/73340 [04:51<4:17:00,  4.67it/s]"
     ]
    },
    {
     "name": "stdout",
     "output_type": "stream",
     "text": [
      "{'loss': 2.6969, 'learning_rate': 2.944740073679902e-05, 'epoch': 0.02}\n"
     ]
    },
    {
     "name": "stderr",
     "output_type": "stream",
     "text": [
      "  2%|▏         | 1501/73340 [05:13<3:44:02,  5.34it/s]"
     ]
    },
    {
     "name": "stdout",
     "output_type": "stream",
     "text": [
      "{'loss': 2.4451, 'learning_rate': 2.940646745804339e-05, 'epoch': 0.02}\n"
     ]
    },
    {
     "name": "stderr",
     "output_type": "stream",
     "text": [
      "  2%|▏         | 1601/73340 [05:34<9:14:47,  2.16it/s] "
     ]
    },
    {
     "name": "stdout",
     "output_type": "stream",
     "text": [
      "{'loss': 2.5805, 'learning_rate': 2.9365534179287762e-05, 'epoch': 0.02}\n"
     ]
    },
    {
     "name": "stderr",
     "output_type": "stream",
     "text": [
      "  2%|▏         | 1701/73340 [05:58<4:15:38,  4.67it/s]"
     ]
    },
    {
     "name": "stdout",
     "output_type": "stream",
     "text": [
      "{'loss': 2.3889, 'learning_rate': 2.9324600900532135e-05, 'epoch': 0.02}\n"
     ]
    },
    {
     "name": "stderr",
     "output_type": "stream",
     "text": [
      "  2%|▏         | 1801/73340 [06:17<4:01:59,  4.93it/s]"
     ]
    },
    {
     "name": "stdout",
     "output_type": "stream",
     "text": [
      "{'loss': 2.2937, 'learning_rate': 2.9283667621776504e-05, 'epoch': 0.02}\n"
     ]
    },
    {
     "name": "stderr",
     "output_type": "stream",
     "text": [
      "  3%|▎         | 1901/73340 [06:48<3:42:52,  5.34it/s]"
     ]
    },
    {
     "name": "stdout",
     "output_type": "stream",
     "text": [
      "{'loss': 2.2866, 'learning_rate': 2.9242734343020876e-05, 'epoch': 0.03}\n"
     ]
    },
    {
     "name": "stderr",
     "output_type": "stream",
     "text": [
      "  3%|▎         | 2000/73340 [07:25<3:38:45,  5.44it/s]"
     ]
    },
    {
     "name": "stdout",
     "output_type": "stream",
     "text": [
      "{'loss': 2.4396, 'learning_rate': 2.920180106426525e-05, 'epoch': 0.03}\n"
     ]
    },
    {
     "name": "stderr",
     "output_type": "stream",
     "text": []
    }
   ],
   "source": [
    "trainer, preds = utils.fine_tune(scilitbert_tokenizer,ScilitBERT,dataset,\"fine_tuning_demo_journal_finder\",output_dir=\"../results/fine_tuning_demo_journal_finder/\",log_dir=\"../logs/fine_tuning_demo_journal_finder\",num_labels=num_labels)"
   ]
  }
 ],
 "metadata": {
  "kernelspec": {
   "display_name": "Python 3.8.8 64-bit ('tf-gpu': conda)",
   "name": "python388jvsc74a57bd020ccc086250a1d8afb8ee213eb423490fc73b5d8661b0c9d3ae0954e46a7b6d9"
  },
  "language_info": {
   "codemirror_mode": {
    "name": "ipython",
    "version": 3
   },
   "file_extension": ".py",
   "mimetype": "text/x-python",
   "name": "python",
   "nbconvert_exporter": "python",
   "pygments_lexer": "ipython3",
   "version": "3.8.8"
  },
  "metadata": {
   "interpreter": {
    "hash": "20ccc086250a1d8afb8ee213eb423490fc73b5d8661b0c9d3ae0954e46a7b6d9"
   }
  },
  "orig_nbformat": 2
 },
 "nbformat": 4,
 "nbformat_minor": 2
}