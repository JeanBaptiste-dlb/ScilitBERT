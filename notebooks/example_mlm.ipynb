{
 "cells": [
  {
   "cell_type": "code",
   "execution_count": 4,
   "metadata": {},
   "outputs": [
    {
     "name": "stdout",
     "output_type": "stream",
     "text": [
      "The autoreload extension is already loaded. To reload it, use:\n",
      "  %reload_ext autoreload\n"
     ]
    },
    {
     "name": "stderr",
     "output_type": "stream",
     "text": [
      "[nltk_data] Downloading package punkt to /home/jbdlb/nltk_data...\n",
      "[nltk_data]   Package punkt is already up-to-date!\n"
     ]
    }
   ],
   "source": [
    "from transformers import RobertaForMaskedLM, RobertaTokenizerFast, RobertaModel\n",
    "from tokenizers import ByteLevelBPETokenizer\n",
    "import torch\n",
    "import numpy as np\n",
    "import pandas as pd\n",
    "import utils\n",
    "%load_ext autoreload\n",
    "%autoreload 2"
   ]
  },
  {
   "cell_type": "code",
   "execution_count": 5,
   "metadata": {},
   "outputs": [],
   "source": [
    "ScilitBERT_tokenizer = RobertaTokenizerFast(\"../ScilitBERT/ScilitBERT_tokenizer/scilitBERT_tok-vocab.json\",\"../ScilitBERT/ScilitBERT_tokenizer/scilitBERT_tok-merges.txt\")\n",
    "\n",
    "ScilitBERT = RobertaForMaskedLM.from_pretrained(\"../ScilitBERT/ScilitBERT_cased\")"
   ]
  },
  {
   "cell_type": "markdown",
   "metadata": {},
   "source": [
    "## Some examples"
   ]
  },
  {
   "cell_type": "code",
   "execution_count": 6,
   "metadata": {},
   "outputs": [
    {
     "name": "stdout",
     "output_type": "stream",
     "text": [
      "completions for sentance:a language model can be pretrained then <mask>-tuned on a downstream task\n"
     ]
    },
    {
     "data": {
      "text/html": "<div>\n<style scoped>\n    .dataframe tbody tr th:only-of-type {\n        vertical-align: middle;\n    }\n\n    .dataframe tbody tr th {\n        vertical-align: top;\n    }\n\n    .dataframe thead th {\n        text-align: right;\n    }\n</style>\n<table border=\"1\" class=\"dataframe\">\n  <thead>\n    <tr style=\"text-align: right;\">\n      <th></th>\n      <th>word</th>\n      <th>proba</th>\n    </tr>\n  </thead>\n  <tbody>\n    <tr>\n      <th>0</th>\n      <td>Ġfine</td>\n      <td>0.96</td>\n    </tr>\n    <tr>\n      <th>1</th>\n      <td>Ġre</td>\n      <td>0.01</td>\n    </tr>\n    <tr>\n      <th>2</th>\n      <td>Ġhand</td>\n      <td>0.01</td>\n    </tr>\n  </tbody>\n</table>\n</div>",
      "text/plain": "    word  proba\n0  Ġfine   0.96\n1    Ġre   0.01\n2  Ġhand   0.01"
     },
     "metadata": {},
     "output_type": "display_data"
    }
   ],
   "source": [
    "utils.display_output(\"a language model can be pretrained then <mask>-tuned on a downstream task\",3,ScilitBERT_tokenizer,ScilitBERT)"
   ]
  },
  {
   "cell_type": "code",
   "execution_count": 35,
   "metadata": {},
   "outputs": [
    {
     "name": "stdout",
     "output_type": "stream",
     "text": [
      "completions for sentance:The <mask> are located on the valence layer\n"
     ]
    },
    {
     "data": {
      "text/html": "<div>\n<style scoped>\n    .dataframe tbody tr th:only-of-type {\n        vertical-align: middle;\n    }\n\n    .dataframe tbody tr th {\n        vertical-align: top;\n    }\n\n    .dataframe thead th {\n        text-align: right;\n    }\n</style>\n<table border=\"1\" class=\"dataframe\">\n  <thead>\n    <tr style=\"text-align: right;\">\n      <th></th>\n      <th>word</th>\n      <th>proba</th>\n    </tr>\n  </thead>\n  <tbody>\n    <tr>\n      <th>0</th>\n      <td>Ġelectrons</td>\n      <td>0.31</td>\n    </tr>\n    <tr>\n      <th>1</th>\n      <td>Ġparticles</td>\n      <td>0.05</td>\n    </tr>\n    <tr>\n      <th>2</th>\n      <td>Ġelectrodes</td>\n      <td>0.05</td>\n    </tr>\n  </tbody>\n</table>\n</div>",
      "text/plain": "          word  proba\n0   Ġelectrons   0.31\n1   Ġparticles   0.05\n2  Ġelectrodes   0.05"
     },
     "metadata": {},
     "output_type": "display_data"
    }
   ],
   "source": [
    "utils.display_output(\"The <mask> are located on the valence layer\",3,ScilitBERT_tokenizer,ScilitBERT)\n",
    "# True answer: electrons"
   ]
  },
  {
   "cell_type": "code",
   "execution_count": 36,
   "metadata": {},
   "outputs": [
    {
     "name": "stdout",
     "output_type": "stream",
     "text": [
      "completions for sentance: Unlike recent language representation models, BERT is designed to pre-train deep <mask> representations from unlabeled text\n"
     ]
    },
    {
     "data": {
      "text/html": "<div>\n<style scoped>\n    .dataframe tbody tr th:only-of-type {\n        vertical-align: middle;\n    }\n\n    .dataframe tbody tr th {\n        vertical-align: top;\n    }\n\n    .dataframe thead th {\n        text-align: right;\n    }\n</style>\n<table border=\"1\" class=\"dataframe\">\n  <thead>\n    <tr style=\"text-align: right;\">\n      <th></th>\n      <th>word</th>\n      <th>proba</th>\n    </tr>\n  </thead>\n  <tbody>\n    <tr>\n      <th>0</th>\n      <td>Ġlanguage</td>\n      <td>0.29</td>\n    </tr>\n    <tr>\n      <th>1</th>\n      <td>Ġtext</td>\n      <td>0.16</td>\n    </tr>\n    <tr>\n      <th>2</th>\n      <td>Ġsemantic</td>\n      <td>0.12</td>\n    </tr>\n  </tbody>\n</table>\n</div>",
      "text/plain": "        word  proba\n0  Ġlanguage   0.29\n1      Ġtext   0.16\n2  Ġsemantic   0.12"
     },
     "metadata": {},
     "output_type": "display_data"
    }
   ],
   "source": [
    "utils.display_output(\" Unlike recent language representation models, BERT is designed to pre-train deep <mask> representations from unlabeled text\",3,ScilitBERT_tokenizer,ScilitBERT)\n",
    "# True answer: bidirectional"
   ]
  },
  {
   "cell_type": "code",
   "execution_count": 37,
   "metadata": {},
   "outputs": [
    {
     "name": "stdout",
     "output_type": "stream",
     "text": [
      "completions for sentance:The Masked Language Modelling <mask> enables the representation to fuse the left and the right context.\n"
     ]
    },
    {
     "data": {
      "text/html": "<div>\n<style scoped>\n    .dataframe tbody tr th:only-of-type {\n        vertical-align: middle;\n    }\n\n    .dataframe tbody tr th {\n        vertical-align: top;\n    }\n\n    .dataframe thead th {\n        text-align: right;\n    }\n</style>\n<table border=\"1\" class=\"dataframe\">\n  <thead>\n    <tr style=\"text-align: right;\">\n      <th></th>\n      <th>word</th>\n      <th>proba</th>\n    </tr>\n  </thead>\n  <tbody>\n    <tr>\n      <th>0</th>\n      <td>Ġframework</td>\n      <td>0.24</td>\n    </tr>\n    <tr>\n      <th>1</th>\n      <td>Ġapproach</td>\n      <td>0.11</td>\n    </tr>\n    <tr>\n      <th>2</th>\n      <td>Ġtechnique</td>\n      <td>0.10</td>\n    </tr>\n  </tbody>\n</table>\n</div>",
      "text/plain": "         word  proba\n0  Ġframework   0.24\n1   Ġapproach   0.11\n2  Ġtechnique   0.10"
     },
     "metadata": {},
     "output_type": "display_data"
    }
   ],
   "source": [
    "utils.display_output(\"The Masked Language Modelling <mask> enables the representation to fuse the left and the right context.\",3,ScilitBERT_tokenizer,ScilitBERT)\n",
    "# True answer: objective"
   ]
  },
  {
   "cell_type": "code",
   "execution_count": 38,
   "metadata": {},
   "outputs": [
    {
     "name": "stdout",
     "output_type": "stream",
     "text": [
      "completions for sentance:vaccine was reported to have an efficacy of 94.1% at preventing symptomatic COVID-19 due to infection with ‘wild-type’ variants in a randomized <mask> trial.\n"
     ]
    },
    {
     "data": {
      "text/html": "<div>\n<style scoped>\n    .dataframe tbody tr th:only-of-type {\n        vertical-align: middle;\n    }\n\n    .dataframe tbody tr th {\n        vertical-align: top;\n    }\n\n    .dataframe thead th {\n        text-align: right;\n    }\n</style>\n<table border=\"1\" class=\"dataframe\">\n  <thead>\n    <tr style=\"text-align: right;\">\n      <th></th>\n      <th>word</th>\n      <th>proba</th>\n    </tr>\n  </thead>\n  <tbody>\n    <tr>\n      <th>0</th>\n      <td>Ġcontrolled</td>\n      <td>0.58</td>\n    </tr>\n    <tr>\n      <th>1</th>\n      <td>Ġclinical</td>\n      <td>0.35</td>\n    </tr>\n    <tr>\n      <th>2</th>\n      <td>Ġcontrol</td>\n      <td>0.03</td>\n    </tr>\n  </tbody>\n</table>\n</div>",
      "text/plain": "          word  proba\n0  Ġcontrolled   0.58\n1    Ġclinical   0.35\n2     Ġcontrol   0.03"
     },
     "metadata": {},
     "output_type": "display_data"
    }
   ],
   "source": [
    "utils.display_output(\"vaccine was reported to have an efficacy of 94.1% at preventing symptomatic COVID-19 due to infection with ‘wild-type’ variants in a randomized <mask> trial.\",3,ScilitBERT_tokenizer,ScilitBERT)\n",
    "# True Answer: clinical"
   ]
  },
  {
   "cell_type": "code",
   "execution_count": 39,
   "metadata": {},
   "outputs": [
    {
     "name": "stdout",
     "output_type": "stream",
     "text": [
      "completions for sentance:vaccine was <mask> to have an efficacy of 94.1% at preventing symptomatic COVID-19 due to infection with ‘wild-type’ variants in a randomized clinical trial.\n"
     ]
    },
    {
     "data": {
      "text/html": "<div>\n<style scoped>\n    .dataframe tbody tr th:only-of-type {\n        vertical-align: middle;\n    }\n\n    .dataframe tbody tr th {\n        vertical-align: top;\n    }\n\n    .dataframe thead th {\n        text-align: right;\n    }\n</style>\n<table border=\"1\" class=\"dataframe\">\n  <thead>\n    <tr style=\"text-align: right;\">\n      <th></th>\n      <th>word</th>\n      <th>proba</th>\n    </tr>\n  </thead>\n  <tbody>\n    <tr>\n      <th>0</th>\n      <td>Ġfound</td>\n      <td>0.25</td>\n    </tr>\n    <tr>\n      <th>1</th>\n      <td>Ġdetermined</td>\n      <td>0.19</td>\n    </tr>\n    <tr>\n      <th>2</th>\n      <td>Ġshown</td>\n      <td>0.11</td>\n    </tr>\n  </tbody>\n</table>\n</div>",
      "text/plain": "          word  proba\n0       Ġfound   0.25\n1  Ġdetermined   0.19\n2       Ġshown   0.11"
     },
     "metadata": {},
     "output_type": "display_data"
    }
   ],
   "source": [
    "utils.display_output(\"vaccine was <mask> to have an efficacy of 94.1% at preventing symptomatic COVID-19 due to infection with ‘wild-type’ variants in a randomized clinical trial.\",3,ScilitBERT_tokenizer,ScilitBERT)\n",
    "#True answer: reported"
   ]
  },
  {
   "cell_type": "code",
   "execution_count": null,
   "metadata": {},
   "outputs": [],
   "source": []
  }
 ],
 "metadata": {
  "kernelspec": {
   "display_name": "Python 3.8.8 64-bit ('tf-gpu': conda)",
   "name": "python38864bitconda50f9a214ca5e4c89bc58cc336f92ac61"
  },
  "language_info": {
   "codemirror_mode": {
    "name": "ipython",
    "version": 3
   },
   "file_extension": ".py",
   "mimetype": "text/x-python",
   "name": "python",
   "nbconvert_exporter": "python",
   "pygments_lexer": "ipython3",
   "version": "3.8.8"
  },
  "metadata": {
   "interpreter": {
    "hash": "20ccc086250a1d8afb8ee213eb423490fc73b5d8661b0c9d3ae0954e46a7b6d9"
   }
  },
  "orig_nbformat": 2
 },
 "nbformat": 4,
 "nbformat_minor": 2
}